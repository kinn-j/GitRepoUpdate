{
 "cells": [
  {
   "cell_type": "code",
   "execution_count": null,
   "id": "c0811b1b",
   "metadata": {},
   "outputs": [],
   "source": [
    "# Run everything in terminal\n",
    "\n",
    "# 1. In VS Code terminal, run, This installs the filtering tool you'll use.\n",
    "pip install git-filter-repo"
   ]
  },
  {
   "cell_type": "code",
   "execution_count": null,
   "id": "78c0514c",
   "metadata": {},
   "outputs": [],
   "source": [
    "#2. Clone your old repo into a temp folder, 📁 This creates a working copy just for extraction.\n",
    "cd C:\\Users\\kinna\\Documents\n",
    "git clone https://github.com/kinn-j/DataScienceBasics.git temp-nlp-move\n",
    "cd temp-nlp-move"
   ]
  },
  {
   "cell_type": "code",
   "execution_count": null,
   "id": "a39eb036",
   "metadata": {},
   "outputs": [],
   "source": [
    "# 3. Filter out only the notebook (with history)\n",
    "# In that same temp-nlp-move folder, run: ✅ This strips out everything except the notebook and keeps its commit history.\n",
    "\n",
    "python -m git_filter_repo --path NLP_BOW_CountVectorizer.ipynb"
   ]
  },
  {
   "cell_type": "code",
   "execution_count": null,
   "id": "93798550",
   "metadata": {},
   "outputs": [],
   "source": [
    "# 4. Link it to the new repo, Now connect it to your NLP_vectorisation repo:\n",
    "\n",
    "git remote remove origin\n",
    "git remote add origin https://github.com/kinn-j/NLP_vectorisation.git\n",
    "\n",
    "\n",
    "# error: No such remote: 'origin'\n",
    "# means your local repo doesn't yet have any remote named origin, so trying to remove it fails.\n",
    "\n",
    "git remote add origin https://github.com/kinn-j/NLP_vectorisation.git\n",
    "git push -u origin main --force\n"
   ]
  },
  {
   "cell_type": "code",
   "execution_count": null,
   "id": "1d764d3d",
   "metadata": {},
   "outputs": [],
   "source": [
    "# 5. Push to new repo (forcefully, to overwrite README if needed), ✅ This replaces everything in \n",
    "# the new repo with your notebook + its original history.\n",
    "\n",
    "\n",
    "git push -u origin main --force\n"
   ]
  }
 ],
 "metadata": {
  "language_info": {
   "name": "python"
  }
 },
 "nbformat": 4,
 "nbformat_minor": 5
}
